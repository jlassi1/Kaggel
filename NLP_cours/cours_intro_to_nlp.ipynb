{
  "nbformat": 4,
  "nbformat_minor": 0,
  "metadata": {
    "colab": {
      "name": "into_nlp.ipynb",
      "provenance": [],
      "collapsed_sections": []
    },
    "kernelspec": {
      "name": "python3",
      "display_name": "Python 3"
    },
    "language_info": {
      "name": "python"
    },
    "accelerator": "GPU"
  },
  "cells": [
    {
      "cell_type": "markdown",
      "metadata": {
        "id": "g53mhSyzW-Zx"
      },
      "source": [
        "\n",
        "# Intro\n",
        "\n",
        "Data comes in many different forms: time stamps, sensor readings, images, categorical labels, and so much more. But text is still some of the most valuable data out there for those who know how to use it.\n",
        "\n",
        "In this course about** Natural Language Processing (NLP)**, you will use the leading NLP library `(spaCy)` to take on some of the most important tasks in working with text.\n",
        "\n",
        "By the end, you will be able to use spaCy for:\n",
        "\n",
        "    \n",
        "*   Basic text processing and pattern matching\n",
        "\n",
        "*   Building machine learning models with text\n",
        "*  Representing text with word embeddings that numerically capture the meaning of words and documents\n",
        "\n",
        "\n",
        "To get the most out of this course, you'll need some experience with machine learning. If you don't have experience with scikit-learn, check out Intro to Machine Learning and Intermediate Machine Learning to learn the fundamentals.\n",
        "\n",
        "# NLP with spaCy\n",
        "\n",
        "spaCy is the leading library for NLP, and it has quickly become one of the most popular Python frameworks. Most people find it intuitive, and it has excellent documentation.\n",
        "\n",
        "spaCy relies on **`models`** that are language-specific and come in different sizes. You can load a spaCy model with `spacy.load`.\n",
        "\n",
        "For example, here's how you would load the English language model.\n"
      ]
    },
    {
      "cell_type": "code",
      "metadata": {
        "id": "7vXPxU3-NNnh"
      },
      "source": [
        "\n",
        "\n",
        "import spacy\n",
        "nlp = spacy.load('en_core_web_sm')\n",
        "\n"
      ],
      "execution_count": 1,
      "outputs": []
    },
    {
      "cell_type": "markdown",
      "metadata": {
        "id": "PXPOzTJcXsz-"
      },
      "source": [
        "\n",
        "\n",
        "With the model loaded, you can process text like this:\n"
      ]
    },
    {
      "cell_type": "code",
      "metadata": {
        "id": "hYoKmyJ5XvAE"
      },
      "source": [
        "doc = nlp(\"Tea is healthy and calming, don't you think?\")"
      ],
      "execution_count": 2,
      "outputs": []
    },
    {
      "cell_type": "markdown",
      "metadata": {
        "id": "y9ba8hFmXxI2"
      },
      "source": [
        "\n",
        "\n",
        "There's a lot you can do with the doc object you just created.**bold text**\n",
        "# Tokenizing\n",
        "\n",
        "This returns a document object that contains tokens. A token is a unit of text in the document, such as individual words and punctuation. SpaCy splits contractions like `\"don't\"` into two tokens, `\"do\"` and `\"n't\"`. You can see the tokens by iterating through the document.\n"
      ]
    },
    {
      "cell_type": "code",
      "metadata": {
        "id": "vIdHSmnTMWv7",
        "colab": {
          "base_uri": "https://localhost:8080/"
        },
        "outputId": "2daf06da-24ee-4977-a3e1-de2fb401d5b7"
      },
      "source": [
        "\n",
        "for token in doc:\n",
        "    print(token)\n"
      ],
      "execution_count": 3,
      "outputs": [
        {
          "output_type": "stream",
          "text": [
            "Tea\n",
            "is\n",
            "healthy\n",
            "and\n",
            "calming\n",
            ",\n",
            "do\n",
            "n't\n",
            "you\n",
            "think\n",
            "?\n"
          ],
          "name": "stdout"
        }
      ]
    },
    {
      "cell_type": "markdown",
      "metadata": {
        "id": "P6_M_AF_YAJp"
      },
      "source": [
        "\n",
        "\n",
        "Iterating through a document gives you token objects. Each of these tokens comes with additional information. In most cases, the important ones are `token.lemma_` and `token.is_stop`.\n",
        "# Text preprocessing\n",
        "\n",
        "There are a few types of preprocessing to improve how we model with words. The first is **\"lemmatizing.\"** The \"lemma\" of a word is its base form. For example, \"walk\" is the lemma of the word \"walking\". So, when you lemmatize the word walking, you would convert it to walk.\n",
        "\n",
        "It's also common to remove stopwords. Stopwords are words that occur frequently in the language and don't contain much information. English stopwords include \"the\", \"is\", \"and\", \"but\", \"not\".\n",
        "\n",
        "With a spaCy token, `token.lemma_` returns the lemma, while `token.is_stop` returns a boolean True if the token is a stopword (and False otherwise).\n"
      ]
    },
    {
      "cell_type": "code",
      "metadata": {
        "colab": {
          "base_uri": "https://localhost:8080/"
        },
        "id": "l7oGr63_YUxG",
        "outputId": "d2069713-bad9-4384-df69-0e1aff4fe1f0"
      },
      "source": [
        "\n",
        "\n",
        "\n",
        "print(f\"Token \\t\\tLemma \\t\\tStopword\".format('Token', 'Lemma', 'Stopword'))\n",
        "print(\"-\"*40)\n",
        "for token in doc:\n",
        "    print(f\"{str(token)}\\t\\t{token.lemma_}\\t\\t{token.is_stop}\")\n",
        "\n"
      ],
      "execution_count": 4,
      "outputs": [
        {
          "output_type": "stream",
          "text": [
            "Token \t\tLemma \t\tStopword\n",
            "----------------------------------------\n",
            "Tea\t\ttea\t\tFalse\n",
            "is\t\tbe\t\tTrue\n",
            "healthy\t\thealthy\t\tFalse\n",
            "and\t\tand\t\tTrue\n",
            "calming\t\tcalm\t\tFalse\n",
            ",\t\t,\t\tFalse\n",
            "do\t\tdo\t\tTrue\n",
            "n't\t\tnot\t\tTrue\n",
            "you\t\t-PRON-\t\tTrue\n",
            "think\t\tthink\t\tFalse\n",
            "?\t\t?\t\tFalse\n"
          ],
          "name": "stdout"
        }
      ]
    },
    {
      "cell_type": "markdown",
      "metadata": {
        "id": "HdpQoPudYX63"
      },
      "source": [
        "\n",
        "\n",
        "Why are lemmas and identifying stopwords important? Language data has a lot of noise mixed in with informative content. In the sentence above, the important words are tea, healthy and calming. Removing stop words might help the predictive model focus on relevant words. Lemmatizing similarly helps by combining multiple forms of the same word into one base form (\"calming\", \"calms\", \"calmed\" would all change to \"calm\").\n",
        "\n",
        "However, lemmatizing and dropping stopwords might result in your models performing worse. So you should treat this preprocessing as part of your hyperparameter optimization process.\n",
        "# Pattern Matching\n",
        "\n",
        "Another common NLP task is matching tokens or phrases within chunks of text or whole documents. You can do pattern matching with regular expressions, but spaCy's matching capabilities tend to be easier to use.\n",
        "\n",
        "To match individual tokens, you create a **`Matcher`**. When you want to match a list of terms, it's easier and more efficient to use `PhraseMatcher`. For example, if you want to find where different smartphone models show up in some text, you can create patterns for the model names of interest. First you create the PhraseMatcher itself.\n"
      ]
    },
    {
      "cell_type": "code",
      "metadata": {
        "id": "XInMOVgDlpbI"
      },
      "source": [
        "from spacy.matcher import PhraseMatcher\n",
        "matcher = PhraseMatcher(nlp.vocab, attr='LOWER')\n"
      ],
      "execution_count": 5,
      "outputs": []
    },
    {
      "cell_type": "markdown",
      "metadata": {
        "id": "_hRCmdZSYqhx"
      },
      "source": [
        "\n",
        "\n",
        "The matcher is created using the vocabulary of your model. Here we're using the small English model you loaded earlier. Setting attr='LOWER' will match the phrases on lowercased text. This provides case insensitive matching.\n",
        "\n",
        "Next you create a list of terms to match in the text. The phrase matcher needs the patterns as document objects. The easiest way to get these is with a list comprehension using the nlp model.\n"
      ]
    },
    {
      "cell_type": "code",
      "metadata": {
        "id": "JV3yT4pzYtP3"
      },
      "source": [
        "terms = ['Galaxy Note', 'iPhone 11', 'iPhone XS', 'Google Pixel']\n",
        "patterns = [nlp(text) for text in terms]\n",
        "matcher.add(\"TerminologyList\", patterns)"
      ],
      "execution_count": 6,
      "outputs": []
    },
    {
      "cell_type": "markdown",
      "metadata": {
        "id": "nAOJZ64kYvjl"
      },
      "source": [
        "\n",
        "\n",
        "Then you create a document from the text to search and use the phrase matcher to find where the terms occur in the text.\n"
      ]
    },
    {
      "cell_type": "code",
      "metadata": {
        "id": "m7KLTtN83b94",
        "colab": {
          "base_uri": "https://localhost:8080/"
        },
        "outputId": "d9cbd999-f776-490b-c774-93ef958ac2ee"
      },
      "source": [
        "# Borrowed from https://daringfireball.net/linked/2019/09/21/patel-11-pro\n",
        "text_doc = nlp(\"Glowing review overall, and some really interesting side-by-side \"\n",
        "               \"photography tests pitting the iPhone 11 Pro against the \"\n",
        "               \"Galaxy Note 10 Plus and last year’s iPhone XS and Google Pixel 3.\") \n",
        "matches = matcher(text_doc)\n",
        "print(matches)"
      ],
      "execution_count": 7,
      "outputs": [
        {
          "output_type": "stream",
          "text": [
            "[(3766102292120407359, 17, 19), (3766102292120407359, 22, 24), (3766102292120407359, 30, 32), (3766102292120407359, 33, 35)]\n"
          ],
          "name": "stdout"
        }
      ]
    },
    {
      "cell_type": "markdown",
      "metadata": {
        "id": "FXhs9trIY0nM"
      },
      "source": [
        "The matches here are a tuple of the match id and the positions of the start and end of the phrase."
      ]
    },
    {
      "cell_type": "code",
      "metadata": {
        "id": "QZHsuiWahui7",
        "colab": {
          "base_uri": "https://localhost:8080/"
        },
        "outputId": "ec61d31e-7b5d-4fe0-b790-5abe2ed80972"
      },
      "source": [
        "\n",
        "\n",
        "match_id, start, end = matches[0]\n",
        "print(nlp.vocab.strings[match_id], text_doc[start:end])\n",
        "\n"
      ],
      "execution_count": 8,
      "outputs": [
        {
          "output_type": "stream",
          "text": [
            "TerminologyList iPhone 11\n"
          ],
          "name": "stdout"
        }
      ]
    }
  ]
}